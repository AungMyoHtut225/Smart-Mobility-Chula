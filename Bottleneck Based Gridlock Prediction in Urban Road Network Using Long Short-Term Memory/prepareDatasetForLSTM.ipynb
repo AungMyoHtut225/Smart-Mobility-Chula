{
 "cells": [
  {
   "cell_type": "code",
   "execution_count": 1,
   "metadata": {},
   "outputs": [],
   "source": [
    "import os\n",
    "import pandas as pd\n",
    "import numpy as np\n",
    "\n",
    "from pandas import DataFrame\n",
    "from pandas import Series\n",
    "from pandas import concat"
   ]
  },
  {
   "cell_type": "code",
   "execution_count": 2,
   "metadata": {},
   "outputs": [],
   "source": [
    "dirpath = os.getcwd()\n",
    "percentage = ['1%','5%','10%','15%','20%','25%','30%','35%','40%','45%','50%','100%']\n",
    "names = ['time(s)','cluster_185_186','cluster_159_32_6_7','cluster_43_44','cluster_46_47','cluster_83_84','gridlock']\n",
    "\n",
    "\n",
    "for percent in percentage:\n",
    "    frames = []\n",
    "    for number in range(0,100):\n",
    "        path  = dirpath + '/'+str(number+1)+'/datasetForTimeSampling/15mins/60_' + percent + '_combine.csv'\n",
    "        if (os.path.isfile(path)):\n",
    "            df = pd.read_csv(path, names=names, header=None, skiprows=1)\n",
    "            #print(len(df))\n",
    "            \n",
    "            frames.append(df)\n",
    "\n",
    "    result = pd.concat(frames)\n",
    "    result.to_csv(dirpath + '/datasetForLSTM_TimeSampling/15mins/60_'+percent+'_Allcombine.csv', index=False, sep=',')\n"
   ]
  },
  {
   "cell_type": "code",
   "execution_count": null,
   "metadata": {},
   "outputs": [],
   "source": []
  }
 ],
 "metadata": {
  "anaconda-cloud": {},
  "kernelspec": {
   "display_name": "Python 3",
   "language": "python",
   "name": "python3"
  },
  "language_info": {
   "codemirror_mode": {
    "name": "ipython",
    "version": 3
   },
   "file_extension": ".py",
   "mimetype": "text/x-python",
   "name": "python",
   "nbconvert_exporter": "python",
   "pygments_lexer": "ipython3",
   "version": "3.7.3"
  }
 },
 "nbformat": 4,
 "nbformat_minor": 1
}
